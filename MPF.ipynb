{
 "cells": [
  {
   "cell_type": "markdown",
   "id": "c7adc993",
   "metadata": {},
   "source": [
    "# Combinatorial entropy: Microcanonical Partition Function (MPF). \n",
    "                                                                                                             ##By: Kokeb D"
   ]
  },
  {
   "cell_type": "code",
   "execution_count": null,
   "id": "ba82ff5e",
   "metadata": {},
   "outputs": [],
   "source": [
    "import numpy as np\n",
    "import matplotlib.pyplot as plt\n",
    "\n",
    "# Defining the ranges of the value for NA\n",
    "N1 = 2000\n",
    "N2 = 10000\n",
    "NA1 = np.arange(0, N1 + 1)\n",
    "NA2 = np.arange(0, N2 + 1)\n",
    "\n",
    "# Calculate logarithm of the Ω (stated in Eq.5.1) using Stirling's approximation for ln(N!) for N = 2000\n",
    "log_omega1 = (\n",
    "    N1 * np.log(N1) - N1 - (NA1 * np.log(NA1 + 1e-10) - NA1) - ((N1 - NA1) * np.log(N1 - NA1 + 1e-10) - (N1 - NA1))\n",
    ")\n",
    "\n",
    "# Normalize to the maximal value occurring at NA = N/2 for N = 2000\n",
    "log_omega1_normalized = log_omega1 - max(log_omega1)\n",
    "\n",
    "# Calculate logarithm of the Ω (stated in Eq.5.1) using Stirling's approximation for ln(N!) for N = 10000\n",
    "log_omega2 = (\n",
    "    N2 * np.log(N2) - N2 - (NA2 * np.log(NA2 + 1e-10) - NA2) - ((N2 - NA2) * np.log(N2 - NA2 + 1e-10) - (N2 - NA2))\n",
    ")\n",
    "\n",
    "# Normalize to the maximal value occurring at NA = N/2 for N = 10000\n",
    "log_omega2_normalized = log_omega2 - max(log_omega2)\n",
    "\n",
    "# Calculate the partition functions by exponentiating the logarithms\n",
    "omega1_normalized = np.exp(log_omega1_normalized)\n",
    "omega2_normalized = np.exp(log_omega2_normalized)\n",
    "\n",
    "# Create a new figure with subplots\n",
    "plt.figure(figsize=(10, 5))\n",
    "\n",
    "# Subplot 1: Plot for N = 2000\n",
    "plt.subplot(121)\n",
    "plt.plot(NA1, omega1_normalized, 'b', linewidth=2)\n",
    "plt.xlabel('NA')\n",
    "plt.ylabel('Ω/Ωmax')\n",
    "plt.title('MPF for N = 2000 (Stirling\\'s Approximation)')\n",
    "plt.grid(True)\n",
    "\n",
    "# Set x-axis ticks\n",
    "plt.xticks([0, N1/4, N1/2, 3*N1/4, N1], ['0', 'N/4', 'N/2', '3N/4', 'N'])\n",
    "\n",
    "# Subplot 2: Plot for N = 10000\n",
    "plt.subplot(122)\n",
    "plt.plot(NA2, omega2_normalized, 'g', linewidth=2)\n",
    "plt.xlabel('NA')\n",
    "plt.ylabel('Ω/Ωmax')\n",
    "plt.title('MPF for N = 10000 (Stirling\\'s Approximation)')\n",
    "plt.grid(True)\n",
    "\n",
    "# Set x-axis ticks\n",
    "plt.xticks([0, N2/4, N2/2, 3*N2/4, N2], ['0', 'N/4', 'N/2', '3N/4', 'N'])\n",
    "\n",
    "plt.tight_layout()\n",
    "plt.show()\n"
   ]
  }
 ],
 "metadata": {
  "kernelspec": {
   "display_name": "Python 3 (ipykernel)",
   "language": "python",
   "name": "python3"
  },
  "language_info": {
   "codemirror_mode": {
    "name": "ipython",
    "version": 3
   },
   "file_extension": ".py",
   "mimetype": "text/x-python",
   "name": "python",
   "nbconvert_exporter": "python",
   "pygments_lexer": "ipython3",
   "version": "3.10.10"
  }
 },
 "nbformat": 4,
 "nbformat_minor": 5
}
